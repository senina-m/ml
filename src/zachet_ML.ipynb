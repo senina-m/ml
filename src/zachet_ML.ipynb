{
  "nbformat": 4,
  "nbformat_minor": 0,
  "metadata": {
    "colab": {
      "name": "zachet_ML.ipynb",
      "provenance": []
    },
    "kernelspec": {
      "name": "python3",
      "display_name": "Python 3"
    },
    "language_info": {
      "name": "python"
    }
  },
  "cells": [
    {
      "cell_type": "code",
      "source": [
        "from sklearn.tree import DecisionTreeClassifier\n",
        "from sklearn.linear_model import LogisticRegression\n",
        "from sklearn.model_selection import train_test_split\n",
        "from sklearn.ensemble import RandomForestClassifier\n",
        "from sklearn.multiclass import OneVsRestClassifier\n",
        "from sklearn.metrics import confusion_matrix\n",
        "from sklearn.decomposition import PCA\n",
        "import pandas as pd\n",
        "import numpy as np\n",
        "from keras.datasets import mnist\n",
        "import warnings\n",
        "warnings.filterwarnings(\"ignore\")"
      ],
      "metadata": {
        "id": "sp7htrAtEH6l"
      },
      "execution_count": 2,
      "outputs": []
    },
    {
      "cell_type": "markdown",
      "source": [
        "Загрузите файл из задания **\"pred_for_task.csv\"**"
      ],
      "metadata": {
        "id": "c2rC8vxKHjH9"
      }
    },
    {
      "cell_type": "code",
      "source": [
        "(X_train, y_train), (X_pred, y_pred) = mnist.load_data()\n",
        "dim = 784  # 28*28\n",
        "X_train_ = X_train.reshape(len(X_train), dim)\n",
        "\n",
        "pca = PCA(svd_solver='full')\n",
        "pca = pca.fit(X_train_)\n",
        "\n",
        "M = 0\n",
        "for arg, val in enumerate(np.cumsum(pca.explained_variance_ratio_)):\n",
        "    if val > 0.71:                                                              # <----- МЕНЯТЬ ПО ЗАДАНИЮ!\n",
        "        M = arg + 1\n",
        "        break\n",
        "\n",
        "print(M)"
      ],
      "metadata": {
        "colab": {
          "base_uri": "https://localhost:8080/"
        },
        "id": "Kv98k_P6EL57",
        "outputId": "9bee1092-0d34-4146-e867-a6f4a2ee2e9d"
      },
      "execution_count": 3,
      "outputs": [
        {
          "output_type": "stream",
          "name": "stdout",
          "text": [
            "Downloading data from https://storage.googleapis.com/tensorflow/tf-keras-datasets/mnist.npz\n",
            "11493376/11490434 [==============================] - 0s 0us/step\n",
            "11501568/11490434 [==============================] - 0s 0us/step\n",
            "28\n"
          ]
        }
      ]
    },
    {
      "cell_type": "code",
      "source": [
        "X_train = X_train.reshape(len(X_train), dim)\n",
        "\n",
        "# Поиск счёт\n",
        "pca = PCA(n_components=M, svd_solver='full')\n",
        "pca = pca.fit(X_train)\n",
        "\n",
        "# Разделение выборки\n",
        "X_train, X_test, y_train, y_test = train_test_split(X_train, y_train, test_size=0.3, random_state=54)  # <----- МЕНЯТЬ ПО ЗАДАНИЮ!\n",
        "X_train = pca.transform(X_train)\n",
        "X_test = pca.transform(X_test)\n",
        "\n",
        "print(X_train.transpose()[0].mean())"
      ],
      "metadata": {
        "colab": {
          "base_uri": "https://localhost:8080/"
        },
        "id": "Hvj2CDfQEatk",
        "outputId": "73e83e8b-0621-486b-98b1-6528217b9d0e"
      },
      "execution_count": 4,
      "outputs": [
        {
          "output_type": "stream",
          "name": "stdout",
          "text": [
            "0.844481936070177\n"
          ]
        }
      ]
    },
    {
      "cell_type": "code",
      "source": [
        "random_forest = RandomForestClassifier(criterion='gini', min_samples_leaf=10, max_depth=20, n_estimators=10, random_state=54) # <----- МЕНЯТЬ ПО ЗАДАНИЮ!\n",
        "clf_random_forest = OneVsRestClassifier(random_forest).fit(X_train, y_train)\n",
        "y_pred = clf_random_forest.predict(X_test)\n",
        "\n",
        "CM = confusion_matrix(y_test, y_pred)\n",
        "print(CM[4][4])                                                                 # <----- МЕНЯТЬ ПО ЗАДАНИЮ!"
      ],
      "metadata": {
        "colab": {
          "base_uri": "https://localhost:8080/"
        },
        "id": "3q2kzYKIEmOg",
        "outputId": "5f8cbf88-9ed0-4ffa-abd4-76e532f96c38"
      },
      "execution_count": 5,
      "outputs": [
        {
          "output_type": "stream",
          "name": "stdout",
          "text": [
            "1591\n"
          ]
        }
      ]
    },
    {
      "cell_type": "code",
      "source": [
        "log_reg = LogisticRegression(solver='lbfgs', random_state=54)                   # <----- МЕНЯТЬ ПО ЗАДАНИЮ!\n",
        "clf_log_reg = OneVsRestClassifier(log_reg).fit(X_train, y_train)\n",
        "y_pred = clf_log_reg.predict(X_test)\n",
        "\n",
        "CM = confusion_matrix(y_test, y_pred)\n",
        "print(CM[6][6])                                                                 # <----- МЕНЯТЬ ПО ЗАДАНИЮ!"
      ],
      "metadata": {
        "colab": {
          "base_uri": "https://localhost:8080/"
        },
        "id": "LWiIotNSE0xj",
        "outputId": "650fca7f-4354-4c5c-adec-416472e56cda"
      },
      "execution_count": 6,
      "outputs": [
        {
          "output_type": "stream",
          "name": "stdout",
          "text": [
            "1684\n"
          ]
        }
      ]
    },
    {
      "cell_type": "code",
      "source": [
        "tree = DecisionTreeClassifier(criterion='gini', min_samples_leaf=10, max_depth=20, random_state=54) # <----- МЕНЯТЬ ПО ЗАДАНИЮ!\n",
        "clf_tree = OneVsRestClassifier(tree).fit(X_train, y_train)\n",
        "y_pred = clf_tree.predict(X_test)\n",
        "\n",
        "CM = confusion_matrix(y_test, y_pred)\n",
        "print(CM[3][3])                                                                 # <----- МЕНЯТЬ ПО ЗАДАНИЮ!"
      ],
      "metadata": {
        "colab": {
          "base_uri": "https://localhost:8080/"
        },
        "id": "kNkZk8o2E2c1",
        "outputId": "fae45f64-d9d4-4077-b895-21005cbeedb6"
      },
      "execution_count": 7,
      "outputs": [
        {
          "output_type": "stream",
          "name": "stdout",
          "text": [
            "1477\n"
          ]
        }
      ]
    },
    {
      "cell_type": "code",
      "source": [
        "DATA = pd.read_csv(\"pred_for_task.csv\", delimiter=',', index_col='FileName')    # <----- Загрузите файл сначала с задания, а потом запускайте\n",
        "X_test = pd.DataFrame(DATA.drop(['Label'], axis=1))\n",
        "X_test = pca.transform(X_test)\n",
        "\n",
        "y_pred = clf_random_forest.predict_proba(X_test)\n",
        "idx = list(DATA.index).index(\"file20\")                                          # <----- МЕНЯТЬ ПО ЗАДАНИЮ!\n",
        "print(y_pred[idx][DATA['Label'][idx]])"
      ],
      "metadata": {
        "colab": {
          "base_uri": "https://localhost:8080/"
        },
        "id": "59-VilkkE4xN",
        "outputId": "2c817ca3-a410-4675-d6a1-36d9e7cf15d8"
      },
      "execution_count": 8,
      "outputs": [
        {
          "output_type": "stream",
          "name": "stdout",
          "text": [
            "0.9383058798674433\n"
          ]
        }
      ]
    },
    {
      "cell_type": "code",
      "source": [
        "y_pred = clf_log_reg.predict_proba(X_test)\n",
        "idx = list(DATA.index).index(\"file24\")                                          # <----- МЕНЯТЬ ПО ЗАДАНИЮ!\n",
        "print(y_pred[idx][DATA['Label'][idx]])"
      ],
      "metadata": {
        "colab": {
          "base_uri": "https://localhost:8080/"
        },
        "id": "q-xjClFVE_4i",
        "outputId": "20c788d2-f42e-4ba6-f56e-dd323a8419ef"
      },
      "execution_count": 9,
      "outputs": [
        {
          "output_type": "stream",
          "name": "stdout",
          "text": [
            "0.9176922958352625\n"
          ]
        }
      ]
    },
    {
      "cell_type": "code",
      "source": [
        "y_pred = clf_tree.predict_proba(X_test)\n",
        "idx = list(DATA.index).index(\"file8\")                                           # <----- МЕНЯТЬ ПО ЗАДАНИЮ!\n",
        "print(y_pred[idx][DATA['Label'][idx]])"
      ],
      "metadata": {
        "colab": {
          "base_uri": "https://localhost:8080/"
        },
        "id": "VnqNJft2FC49",
        "outputId": "cb9b0162-49c0-40b6-a612-02b4b2903112"
      },
      "execution_count": 10,
      "outputs": [
        {
          "output_type": "stream",
          "name": "stdout",
          "text": [
            "1.0\n"
          ]
        }
      ]
    }
  ]
}
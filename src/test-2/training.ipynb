{
  "nbformat": 4,
  "nbformat_minor": 0,
  "metadata": {
    "colab": {
      "name": "test-test.ipynb",
      "provenance": [],
      "collapsed_sections": []
    },
    "kernelspec": {
      "name": "python3",
      "display_name": "Python 3"
    },
    "language_info": {
      "name": "python"
    }
  },
  "cells": [
    {
      "cell_type": "code",
      "execution_count": 17,
      "metadata": {
        "id": "0KM601OkuRW9"
      },
      "outputs": [],
      "source": [
        "import numpy as np\n",
        "import pandas as pd\n",
        "from sklearn.metrics import confusion_matrix\n",
        "from sklearn.svm import LinearSVC\n",
        "from sklearn.tree import DecisionTreeClassifier\n",
        "from sklearn.ensemble import RandomForestClassifier\n",
        "from sklearn.multiclass import OneVsRestClassifier\n",
        "from sklearn.decomposition import PCA\n",
        "from keras.datasets import mnist\n",
        "from sklearn.model_selection import train_test_split"
      ]
    },
    {
      "cell_type": "code",
      "source": [
        "(train_x, train_y), (test_x, test_y) = mnist.load_data()\n",
        "\n",
        "x_train_reshaped = train_x.reshape(len(train_x), 784)\n",
        "\n",
        "pca = PCA(svd_solver='full')\n",
        "\n",
        "X_transformed = pca.fit_transform(x_train_reshaped)\n",
        "\n",
        "explained_variance = np.cumsum(pca.explained_variance_ratio_)\n",
        "\n",
        "for i in range(len(explained_variance)):\n",
        "  if explained_variance[i] >= 0.83:\n",
        "    M = i + 1\n",
        "    final_exp_var = explained_variance[i]\n",
        "    break\n",
        "print(f\"Дисперсия необъяснённой разности для {M} компоненты: {final_exp_var}\")"
      ],
      "metadata": {
        "colab": {
          "base_uri": "https://localhost:8080/"
        },
        "id": "fsc0NCYj3Of7",
        "outputId": "71cd0fb1-0d6f-477f-fc23-34e80a4b62cc"
      },
      "execution_count": 13,
      "outputs": [
        {
          "output_type": "stream",
          "name": "stdout",
          "text": [
            "Дисперсия необъяснённой разности для 52 компоненты: 0.8309650832314033\n"
          ]
        }
      ]
    },
    {
      "cell_type": "code",
      "source": [
        "# Ищем счёты, но зачем?\n",
        "pca_M = PCA(n_components=M, svd_solver='full')\n",
        "pca_M.fit(x_train_reshaped)\n",
        "\n",
        "tr_x,  ts_x, tr_y, ts_y = train_test_split(x_train_reshaped, train_y, test_size=0.3, random_state=126)\n",
        "\n",
        "tr_x = pca_M.transform(tr_x)\n",
        "ts_x = pca_M.transform(ts_x)\n",
        "\n",
        "print(f\"Выборочное среднее нулевой колонки:\", np.mean(tr_x.transpose()[0]))"
      ],
      "metadata": {
        "colab": {
          "base_uri": "https://localhost:8080/"
        },
        "id": "Zt6vv63Z71WA",
        "outputId": "5d57d740-4e57-44c0-ed74-71f75ef8e94c"
      },
      "execution_count": 15,
      "outputs": [
        {
          "output_type": "stream",
          "name": "stdout",
          "text": [
            "Выборочное среднее нулевой колонки: 0.5965431171660649\n"
          ]
        }
      ]
    },
    {
      "cell_type": "code",
      "source": [
        "forest = RandomForestClassifier(criterion='gini', min_samples_leaf=10, max_depth=20, n_estimators=10, random_state=126)\n",
        "clf = OneVsRestClassifier(forest).fit(tr_x, tr_y)\n",
        "\n",
        "y_pred = clf.predict(ts_x)\n",
        "\n",
        "cm = confusion_matrix(ts_y, y_pred)\n",
        "\n",
        "print(f\"количество верно оцененных для класса 5:\", cm[5][5])"
      ],
      "metadata": {
        "colab": {
          "base_uri": "https://localhost:8080/"
        },
        "id": "_oRQ3vnYI2Db",
        "outputId": "8ccec2f3-6638-4640-d508-dd42c7257c8a"
      },
      "execution_count": 16,
      "outputs": [
        {
          "output_type": "stream",
          "name": "stdout",
          "text": [
            "количество верно оцененных для класса 5: 1414\n"
          ]
        }
      ]
    },
    {
      "cell_type": "code",
      "source": [
        "DATA = pd.read_csv(\"https://courses.openedu.ru/assets/courseware/v1/25c0abab1076236b7427fac937c5663e/asset-v1:ITMOUniversity+MLDATAN+spring_2022_ITMO_bac+type@asset+block/pred_for_task.csv\",\n",
        "                   delimiter=',',\n",
        "                   index_col='FileName')\n",
        "x_test = DATA.drop(['Label'], axis=1)\n",
        "x_test_transformed = pca_M.transform(x_test)\n",
        "\n",
        "y_pred = clf.predict_proba(x_test_transformed)\n",
        "idx = list(DATA.index).index(\"file20\")\n",
        "print(f\"вероятность, что картинка верно классифицированна\", y_pred[idx][DATA['Label'][idx]])"
      ],
      "metadata": {
        "colab": {
          "base_uri": "https://localhost:8080/"
        },
        "id": "xC4qZ3DCMn1P",
        "outputId": "24457ac5-66bf-4253-f477-361402819512"
      },
      "execution_count": 23,
      "outputs": [
        {
          "output_type": "stream",
          "name": "stdout",
          "text": [
            "вероятность, что картинка верно классифицированна 0.963\n"
          ]
        },
        {
          "output_type": "stream",
          "name": "stderr",
          "text": [
            "/usr/local/lib/python3.7/dist-packages/sklearn/base.py:444: UserWarning: X has feature names, but PCA was fitted without feature names\n",
            "  f\"X has feature names, but {self.__class__.__name__} was fitted without\"\n"
          ]
        }
      ]
    }
  ]
}